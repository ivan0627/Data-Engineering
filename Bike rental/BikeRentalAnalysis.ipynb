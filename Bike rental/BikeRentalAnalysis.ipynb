{
 "cells": [
  {
   "cell_type": "markdown",
   "id": "9c3ca886-0276-49c6-9bf5-3aa74a412741",
   "metadata": {},
   "source": [
    "# Data Management Project Example - Bike rental company"
   ]
  },
  {
   "cell_type": "markdown",
   "id": "80a2d71a-07f0-4e7f-97d9-563f1a76fe1b",
   "metadata": {},
   "source": [
    "## Libraries Import"
   ]
  },
  {
   "cell_type": "code",
   "execution_count": 3,
   "id": "6c36390d-8b46-4ddd-9ac5-64d2914f9878",
   "metadata": {},
   "outputs": [
    {
     "name": "stdout",
     "output_type": "stream",
     "text": [
      "/Users/ivan.galindo/Desktop/Data Engineering/Bike rental\n"
     ]
    }
   ],
   "source": [
    "import os\n",
    "import datetime\n",
    "import string\n",
    "\n",
    "import pandas as pd\n",
    "import numpy as np\n",
    "\n",
    "import sqlalchemy\n",
    "\n",
    "print(os.getcwd())"
   ]
  },
  {
   "cell_type": "markdown",
   "id": "f75f438c-6f26-42f2-ab0e-eeaaeecc0421",
   "metadata": {},
   "source": [
    "## Data overview"
   ]
  },
  {
   "cell_type": "markdown",
   "id": "0c756e93-c9df-43d0-9c05-e1e23c06b1af",
   "metadata": {},
   "source": [
    "As the data is stored in different files (all of them starting with 'JC') we will iterate in order to open each one and concatenate to a single dataframe"
   ]
  },
  {
   "cell_type": "code",
   "execution_count": 7,
   "id": "b69e9d65-e192-4ad3-9970-98cad4e09e8c",
   "metadata": {},
   "outputs": [],
   "source": [
    "df_bike = pd.DataFrame()\n",
    "\n",
    "# create unified dataframe for all files listed and starting as JC\n",
    "for f in sorted(os.listdir('./data')):\n",
    "    if f.startswith('JC'):\n",
    "        df_temp = pd.read_csv('data/' + f)\n",
    "        \n",
    "        df_bike = pd.concat([df_bike, df_temp], axis=0)\n",
    "\n",
    "# reset the index after concatenation\n",
    "df_bike.reset_index(drop=True, inplace=True)\n",
    "\n",
    "# add an ID column -- this will be useful for counts and eventually a primary key\n",
    "df_bike['id'] = df_bike.index"
   ]
  },
  {
   "cell_type": "markdown",
   "id": "f9a1c278-99f7-44ab-b7fb-4268ba5925a0",
   "metadata": {},
   "source": [
    "Visualizing the data"
   ]
  },
  {
   "cell_type": "code",
   "execution_count": 9,
   "id": "531de076-1516-47f4-abc1-5bfebb3716f8",
   "metadata": {},
   "outputs": [
    {
     "data": {
      "text/html": [
       "<div>\n",
       "<style scoped>\n",
       "    .dataframe tbody tr th:only-of-type {\n",
       "        vertical-align: middle;\n",
       "    }\n",
       "\n",
       "    .dataframe tbody tr th {\n",
       "        vertical-align: top;\n",
       "    }\n",
       "\n",
       "    .dataframe thead th {\n",
       "        text-align: right;\n",
       "    }\n",
       "</style>\n",
       "<table border=\"1\" class=\"dataframe\">\n",
       "  <thead>\n",
       "    <tr style=\"text-align: right;\">\n",
       "      <th></th>\n",
       "      <th>Trip Duration</th>\n",
       "      <th>Start Time</th>\n",
       "      <th>Stop Time</th>\n",
       "      <th>Start Station ID</th>\n",
       "      <th>Start Station Name</th>\n",
       "      <th>Start Station Latitude</th>\n",
       "      <th>Start Station Longitude</th>\n",
       "      <th>End Station ID</th>\n",
       "      <th>End Station Name</th>\n",
       "      <th>End Station Latitude</th>\n",
       "      <th>End Station Longitude</th>\n",
       "      <th>Bike ID</th>\n",
       "      <th>User Type</th>\n",
       "      <th>Birth Year</th>\n",
       "      <th>Gender</th>\n",
       "      <th>id</th>\n",
       "    </tr>\n",
       "  </thead>\n",
       "  <tbody>\n",
       "    <tr>\n",
       "      <th>0</th>\n",
       "      <td>362</td>\n",
       "      <td>2016-01-01 00:02:52</td>\n",
       "      <td>2016-01-01 00:08:54</td>\n",
       "      <td>3186</td>\n",
       "      <td>Grove St PATH</td>\n",
       "      <td>40.719586</td>\n",
       "      <td>-74.043117</td>\n",
       "      <td>3209</td>\n",
       "      <td>Brunswick St</td>\n",
       "      <td>40.724176</td>\n",
       "      <td>-74.050656</td>\n",
       "      <td>24647</td>\n",
       "      <td>Subscriber</td>\n",
       "      <td>1964.0</td>\n",
       "      <td>2</td>\n",
       "      <td>0</td>\n",
       "    </tr>\n",
       "    <tr>\n",
       "      <th>1</th>\n",
       "      <td>200</td>\n",
       "      <td>2016-01-01 00:18:22</td>\n",
       "      <td>2016-01-01 00:21:42</td>\n",
       "      <td>3186</td>\n",
       "      <td>Grove St PATH</td>\n",
       "      <td>40.719586</td>\n",
       "      <td>-74.043117</td>\n",
       "      <td>3213</td>\n",
       "      <td>Van Vorst Park</td>\n",
       "      <td>40.718489</td>\n",
       "      <td>-74.047727</td>\n",
       "      <td>24605</td>\n",
       "      <td>Subscriber</td>\n",
       "      <td>1962.0</td>\n",
       "      <td>1</td>\n",
       "      <td>1</td>\n",
       "    </tr>\n",
       "    <tr>\n",
       "      <th>2</th>\n",
       "      <td>202</td>\n",
       "      <td>2016-01-01 00:18:25</td>\n",
       "      <td>2016-01-01 00:21:47</td>\n",
       "      <td>3186</td>\n",
       "      <td>Grove St PATH</td>\n",
       "      <td>40.719586</td>\n",
       "      <td>-74.043117</td>\n",
       "      <td>3213</td>\n",
       "      <td>Van Vorst Park</td>\n",
       "      <td>40.718489</td>\n",
       "      <td>-74.047727</td>\n",
       "      <td>24689</td>\n",
       "      <td>Subscriber</td>\n",
       "      <td>1962.0</td>\n",
       "      <td>2</td>\n",
       "      <td>2</td>\n",
       "    </tr>\n",
       "    <tr>\n",
       "      <th>3</th>\n",
       "      <td>248</td>\n",
       "      <td>2016-01-01 00:23:13</td>\n",
       "      <td>2016-01-01 00:27:21</td>\n",
       "      <td>3209</td>\n",
       "      <td>Brunswick St</td>\n",
       "      <td>40.724176</td>\n",
       "      <td>-74.050656</td>\n",
       "      <td>3203</td>\n",
       "      <td>Hamilton Park</td>\n",
       "      <td>40.727596</td>\n",
       "      <td>-74.044247</td>\n",
       "      <td>24693</td>\n",
       "      <td>Subscriber</td>\n",
       "      <td>1984.0</td>\n",
       "      <td>1</td>\n",
       "      <td>3</td>\n",
       "    </tr>\n",
       "    <tr>\n",
       "      <th>4</th>\n",
       "      <td>903</td>\n",
       "      <td>2016-01-01 01:03:20</td>\n",
       "      <td>2016-01-01 01:18:24</td>\n",
       "      <td>3195</td>\n",
       "      <td>Sip Ave</td>\n",
       "      <td>40.730743</td>\n",
       "      <td>-74.063784</td>\n",
       "      <td>3210</td>\n",
       "      <td>Pershing Field</td>\n",
       "      <td>40.742677</td>\n",
       "      <td>-74.051789</td>\n",
       "      <td>24573</td>\n",
       "      <td>Customer</td>\n",
       "      <td>NaN</td>\n",
       "      <td>0</td>\n",
       "      <td>4</td>\n",
       "    </tr>\n",
       "  </tbody>\n",
       "</table>\n",
       "</div>"
      ],
      "text/plain": [
       "   Trip Duration           Start Time            Stop Time  Start Station ID  \\\n",
       "0            362  2016-01-01 00:02:52  2016-01-01 00:08:54              3186   \n",
       "1            200  2016-01-01 00:18:22  2016-01-01 00:21:42              3186   \n",
       "2            202  2016-01-01 00:18:25  2016-01-01 00:21:47              3186   \n",
       "3            248  2016-01-01 00:23:13  2016-01-01 00:27:21              3209   \n",
       "4            903  2016-01-01 01:03:20  2016-01-01 01:18:24              3195   \n",
       "\n",
       "  Start Station Name  Start Station Latitude  Start Station Longitude  \\\n",
       "0      Grove St PATH               40.719586               -74.043117   \n",
       "1      Grove St PATH               40.719586               -74.043117   \n",
       "2      Grove St PATH               40.719586               -74.043117   \n",
       "3       Brunswick St               40.724176               -74.050656   \n",
       "4            Sip Ave               40.730743               -74.063784   \n",
       "\n",
       "   End Station ID End Station Name  End Station Latitude  \\\n",
       "0            3209     Brunswick St             40.724176   \n",
       "1            3213   Van Vorst Park             40.718489   \n",
       "2            3213   Van Vorst Park             40.718489   \n",
       "3            3203    Hamilton Park             40.727596   \n",
       "4            3210   Pershing Field             40.742677   \n",
       "\n",
       "   End Station Longitude  Bike ID   User Type  Birth Year  Gender  id  \n",
       "0             -74.050656    24647  Subscriber      1964.0       2   0  \n",
       "1             -74.047727    24605  Subscriber      1962.0       1   1  \n",
       "2             -74.047727    24689  Subscriber      1962.0       2   2  \n",
       "3             -74.044247    24693  Subscriber      1984.0       1   3  \n",
       "4             -74.051789    24573    Customer         NaN       0   4  "
      ]
     },
     "execution_count": 9,
     "metadata": {},
     "output_type": "execute_result"
    }
   ],
   "source": [
    "df_bike.head()"
   ]
  },
  {
   "cell_type": "code",
   "execution_count": 12,
   "id": "4fc3cabf-874d-4f6e-b532-a10887cc6ead",
   "metadata": {},
   "outputs": [
    {
     "data": {
      "text/html": [
       "<div>\n",
       "<style scoped>\n",
       "    .dataframe tbody tr th:only-of-type {\n",
       "        vertical-align: middle;\n",
       "    }\n",
       "\n",
       "    .dataframe tbody tr th {\n",
       "        vertical-align: top;\n",
       "    }\n",
       "\n",
       "    .dataframe thead th {\n",
       "        text-align: right;\n",
       "    }\n",
       "</style>\n",
       "<table border=\"1\" class=\"dataframe\">\n",
       "  <thead>\n",
       "    <tr style=\"text-align: right;\">\n",
       "      <th></th>\n",
       "      <th>Trip Duration</th>\n",
       "      <th>Start Time</th>\n",
       "      <th>Stop Time</th>\n",
       "      <th>Start Station ID</th>\n",
       "      <th>Start Station Name</th>\n",
       "      <th>Start Station Latitude</th>\n",
       "      <th>Start Station Longitude</th>\n",
       "      <th>End Station ID</th>\n",
       "      <th>End Station Name</th>\n",
       "      <th>End Station Latitude</th>\n",
       "      <th>End Station Longitude</th>\n",
       "      <th>Bike ID</th>\n",
       "      <th>User Type</th>\n",
       "      <th>Birth Year</th>\n",
       "      <th>Gender</th>\n",
       "      <th>id</th>\n",
       "    </tr>\n",
       "  </thead>\n",
       "  <tbody>\n",
       "    <tr>\n",
       "      <th>247579</th>\n",
       "      <td>557</td>\n",
       "      <td>2016-12-31 23:10:16</td>\n",
       "      <td>2016-12-31 23:19:33</td>\n",
       "      <td>3214</td>\n",
       "      <td>Essex Light Rail</td>\n",
       "      <td>40.712774</td>\n",
       "      <td>-74.036486</td>\n",
       "      <td>3203</td>\n",
       "      <td>Hamilton Park</td>\n",
       "      <td>40.727596</td>\n",
       "      <td>-74.044247</td>\n",
       "      <td>24465</td>\n",
       "      <td>Subscriber</td>\n",
       "      <td>1981.0</td>\n",
       "      <td>2</td>\n",
       "      <td>247579</td>\n",
       "    </tr>\n",
       "    <tr>\n",
       "      <th>247580</th>\n",
       "      <td>2749</td>\n",
       "      <td>2016-12-31 23:29:39</td>\n",
       "      <td>2017-01-01 00:15:29</td>\n",
       "      <td>3183</td>\n",
       "      <td>Exchange Place</td>\n",
       "      <td>40.716247</td>\n",
       "      <td>-74.033459</td>\n",
       "      <td>3183</td>\n",
       "      <td>Exchange Place</td>\n",
       "      <td>40.716247</td>\n",
       "      <td>-74.033459</td>\n",
       "      <td>24389</td>\n",
       "      <td>Customer</td>\n",
       "      <td>NaN</td>\n",
       "      <td>0</td>\n",
       "      <td>247580</td>\n",
       "    </tr>\n",
       "    <tr>\n",
       "      <th>247581</th>\n",
       "      <td>173</td>\n",
       "      <td>2016-12-31 23:44:37</td>\n",
       "      <td>2016-12-31 23:47:31</td>\n",
       "      <td>3186</td>\n",
       "      <td>Grove St PATH</td>\n",
       "      <td>40.719586</td>\n",
       "      <td>-74.043117</td>\n",
       "      <td>3270</td>\n",
       "      <td>Jersey &amp; 6th St</td>\n",
       "      <td>40.725289</td>\n",
       "      <td>-74.045572</td>\n",
       "      <td>24641</td>\n",
       "      <td>Subscriber</td>\n",
       "      <td>1978.0</td>\n",
       "      <td>1</td>\n",
       "      <td>247581</td>\n",
       "    </tr>\n",
       "    <tr>\n",
       "      <th>247582</th>\n",
       "      <td>2424</td>\n",
       "      <td>2016-12-31 23:44:50</td>\n",
       "      <td>2017-01-01 00:25:14</td>\n",
       "      <td>3214</td>\n",
       "      <td>Essex Light Rail</td>\n",
       "      <td>40.712774</td>\n",
       "      <td>-74.036486</td>\n",
       "      <td>3214</td>\n",
       "      <td>Essex Light Rail</td>\n",
       "      <td>40.712774</td>\n",
       "      <td>-74.036486</td>\n",
       "      <td>26219</td>\n",
       "      <td>Subscriber</td>\n",
       "      <td>1960.0</td>\n",
       "      <td>2</td>\n",
       "      <td>247582</td>\n",
       "    </tr>\n",
       "    <tr>\n",
       "      <th>247583</th>\n",
       "      <td>2419</td>\n",
       "      <td>2016-12-31 23:44:50</td>\n",
       "      <td>2017-01-01 00:25:10</td>\n",
       "      <td>3214</td>\n",
       "      <td>Essex Light Rail</td>\n",
       "      <td>40.712774</td>\n",
       "      <td>-74.036486</td>\n",
       "      <td>3214</td>\n",
       "      <td>Essex Light Rail</td>\n",
       "      <td>40.712774</td>\n",
       "      <td>-74.036486</td>\n",
       "      <td>24471</td>\n",
       "      <td>Subscriber</td>\n",
       "      <td>1956.0</td>\n",
       "      <td>1</td>\n",
       "      <td>247583</td>\n",
       "    </tr>\n",
       "  </tbody>\n",
       "</table>\n",
       "</div>"
      ],
      "text/plain": [
       "        Trip Duration           Start Time            Stop Time  \\\n",
       "247579            557  2016-12-31 23:10:16  2016-12-31 23:19:33   \n",
       "247580           2749  2016-12-31 23:29:39  2017-01-01 00:15:29   \n",
       "247581            173  2016-12-31 23:44:37  2016-12-31 23:47:31   \n",
       "247582           2424  2016-12-31 23:44:50  2017-01-01 00:25:14   \n",
       "247583           2419  2016-12-31 23:44:50  2017-01-01 00:25:10   \n",
       "\n",
       "        Start Station ID Start Station Name  Start Station Latitude  \\\n",
       "247579              3214   Essex Light Rail               40.712774   \n",
       "247580              3183     Exchange Place               40.716247   \n",
       "247581              3186      Grove St PATH               40.719586   \n",
       "247582              3214   Essex Light Rail               40.712774   \n",
       "247583              3214   Essex Light Rail               40.712774   \n",
       "\n",
       "        Start Station Longitude  End Station ID  End Station Name  \\\n",
       "247579               -74.036486            3203     Hamilton Park   \n",
       "247580               -74.033459            3183    Exchange Place   \n",
       "247581               -74.043117            3270   Jersey & 6th St   \n",
       "247582               -74.036486            3214  Essex Light Rail   \n",
       "247583               -74.036486            3214  Essex Light Rail   \n",
       "\n",
       "        End Station Latitude  End Station Longitude  Bike ID   User Type  \\\n",
       "247579             40.727596             -74.044247    24465  Subscriber   \n",
       "247580             40.716247             -74.033459    24389    Customer   \n",
       "247581             40.725289             -74.045572    24641  Subscriber   \n",
       "247582             40.712774             -74.036486    26219  Subscriber   \n",
       "247583             40.712774             -74.036486    24471  Subscriber   \n",
       "\n",
       "        Birth Year  Gender      id  \n",
       "247579      1981.0       2  247579  \n",
       "247580         NaN       0  247580  \n",
       "247581      1978.0       1  247581  \n",
       "247582      1960.0       2  247582  \n",
       "247583      1956.0       1  247583  "
      ]
     },
     "execution_count": 12,
     "metadata": {},
     "output_type": "execute_result"
    }
   ],
   "source": [
    "df_bike.tail()"
   ]
  },
  {
   "cell_type": "code",
   "execution_count": 14,
   "id": "15640563-c657-4513-968e-f346784711c4",
   "metadata": {},
   "outputs": [
    {
     "data": {
      "text/html": [
       "<div>\n",
       "<style scoped>\n",
       "    .dataframe tbody tr th:only-of-type {\n",
       "        vertical-align: middle;\n",
       "    }\n",
       "\n",
       "    .dataframe tbody tr th {\n",
       "        vertical-align: top;\n",
       "    }\n",
       "\n",
       "    .dataframe thead th {\n",
       "        text-align: right;\n",
       "    }\n",
       "</style>\n",
       "<table border=\"1\" class=\"dataframe\">\n",
       "  <thead>\n",
       "    <tr style=\"text-align: right;\">\n",
       "      <th></th>\n",
       "      <th>Trip Duration</th>\n",
       "      <th>Start Station ID</th>\n",
       "      <th>Start Station Latitude</th>\n",
       "      <th>Start Station Longitude</th>\n",
       "      <th>End Station ID</th>\n",
       "      <th>End Station Latitude</th>\n",
       "      <th>End Station Longitude</th>\n",
       "      <th>Bike ID</th>\n",
       "      <th>Birth Year</th>\n",
       "      <th>Gender</th>\n",
       "      <th>id</th>\n",
       "    </tr>\n",
       "  </thead>\n",
       "  <tbody>\n",
       "    <tr>\n",
       "      <th>count</th>\n",
       "      <td>2.475840e+05</td>\n",
       "      <td>247584.000000</td>\n",
       "      <td>247584.000000</td>\n",
       "      <td>247584.000000</td>\n",
       "      <td>247584.000000</td>\n",
       "      <td>247584.000000</td>\n",
       "      <td>247584.000000</td>\n",
       "      <td>247584.000000</td>\n",
       "      <td>228585.000000</td>\n",
       "      <td>247584.000000</td>\n",
       "      <td>247584.000000</td>\n",
       "    </tr>\n",
       "    <tr>\n",
       "      <th>mean</th>\n",
       "      <td>8.856305e+02</td>\n",
       "      <td>3207.065206</td>\n",
       "      <td>40.723121</td>\n",
       "      <td>-74.046438</td>\n",
       "      <td>3203.572553</td>\n",
       "      <td>40.722594</td>\n",
       "      <td>-74.045855</td>\n",
       "      <td>24935.260481</td>\n",
       "      <td>1979.335276</td>\n",
       "      <td>1.123534</td>\n",
       "      <td>123791.500000</td>\n",
       "    </tr>\n",
       "    <tr>\n",
       "      <th>std</th>\n",
       "      <td>3.593798e+04</td>\n",
       "      <td>26.955103</td>\n",
       "      <td>0.008199</td>\n",
       "      <td>0.011211</td>\n",
       "      <td>61.579494</td>\n",
       "      <td>0.007958</td>\n",
       "      <td>0.011283</td>\n",
       "      <td>748.469712</td>\n",
       "      <td>9.596809</td>\n",
       "      <td>0.518687</td>\n",
       "      <td>71471.488861</td>\n",
       "    </tr>\n",
       "    <tr>\n",
       "      <th>min</th>\n",
       "      <td>6.100000e+01</td>\n",
       "      <td>3183.000000</td>\n",
       "      <td>40.692640</td>\n",
       "      <td>-74.096937</td>\n",
       "      <td>147.000000</td>\n",
       "      <td>40.692216</td>\n",
       "      <td>-74.096937</td>\n",
       "      <td>14552.000000</td>\n",
       "      <td>1900.000000</td>\n",
       "      <td>0.000000</td>\n",
       "      <td>0.000000</td>\n",
       "    </tr>\n",
       "    <tr>\n",
       "      <th>25%</th>\n",
       "      <td>2.480000e+02</td>\n",
       "      <td>3186.000000</td>\n",
       "      <td>40.717732</td>\n",
       "      <td>-74.050656</td>\n",
       "      <td>3186.000000</td>\n",
       "      <td>40.716540</td>\n",
       "      <td>-74.050444</td>\n",
       "      <td>24491.000000</td>\n",
       "      <td>1974.000000</td>\n",
       "      <td>1.000000</td>\n",
       "      <td>61895.750000</td>\n",
       "    </tr>\n",
       "    <tr>\n",
       "      <th>50%</th>\n",
       "      <td>3.900000e+02</td>\n",
       "      <td>3201.000000</td>\n",
       "      <td>40.721525</td>\n",
       "      <td>-74.044247</td>\n",
       "      <td>3199.000000</td>\n",
       "      <td>40.721124</td>\n",
       "      <td>-74.043117</td>\n",
       "      <td>24609.000000</td>\n",
       "      <td>1981.000000</td>\n",
       "      <td>1.000000</td>\n",
       "      <td>123791.500000</td>\n",
       "    </tr>\n",
       "    <tr>\n",
       "      <th>75%</th>\n",
       "      <td>6.660000e+02</td>\n",
       "      <td>3211.000000</td>\n",
       "      <td>40.727596</td>\n",
       "      <td>-74.038051</td>\n",
       "      <td>3211.000000</td>\n",
       "      <td>40.727224</td>\n",
       "      <td>-74.036486</td>\n",
       "      <td>24719.000000</td>\n",
       "      <td>1986.000000</td>\n",
       "      <td>1.000000</td>\n",
       "      <td>185687.250000</td>\n",
       "    </tr>\n",
       "    <tr>\n",
       "      <th>max</th>\n",
       "      <td>1.632981e+07</td>\n",
       "      <td>3426.000000</td>\n",
       "      <td>40.752559</td>\n",
       "      <td>-74.032108</td>\n",
       "      <td>3426.000000</td>\n",
       "      <td>40.801343</td>\n",
       "      <td>-73.957390</td>\n",
       "      <td>27274.000000</td>\n",
       "      <td>2000.000000</td>\n",
       "      <td>2.000000</td>\n",
       "      <td>247583.000000</td>\n",
       "    </tr>\n",
       "  </tbody>\n",
       "</table>\n",
       "</div>"
      ],
      "text/plain": [
       "       Trip Duration  Start Station ID  Start Station Latitude  \\\n",
       "count   2.475840e+05     247584.000000           247584.000000   \n",
       "mean    8.856305e+02       3207.065206               40.723121   \n",
       "std     3.593798e+04         26.955103                0.008199   \n",
       "min     6.100000e+01       3183.000000               40.692640   \n",
       "25%     2.480000e+02       3186.000000               40.717732   \n",
       "50%     3.900000e+02       3201.000000               40.721525   \n",
       "75%     6.660000e+02       3211.000000               40.727596   \n",
       "max     1.632981e+07       3426.000000               40.752559   \n",
       "\n",
       "       Start Station Longitude  End Station ID  End Station Latitude  \\\n",
       "count            247584.000000   247584.000000         247584.000000   \n",
       "mean                -74.046438     3203.572553             40.722594   \n",
       "std                   0.011211       61.579494              0.007958   \n",
       "min                 -74.096937      147.000000             40.692216   \n",
       "25%                 -74.050656     3186.000000             40.716540   \n",
       "50%                 -74.044247     3199.000000             40.721124   \n",
       "75%                 -74.038051     3211.000000             40.727224   \n",
       "max                 -74.032108     3426.000000             40.801343   \n",
       "\n",
       "       End Station Longitude        Bike ID     Birth Year         Gender  \\\n",
       "count          247584.000000  247584.000000  228585.000000  247584.000000   \n",
       "mean              -74.045855   24935.260481    1979.335276       1.123534   \n",
       "std                 0.011283     748.469712       9.596809       0.518687   \n",
       "min               -74.096937   14552.000000    1900.000000       0.000000   \n",
       "25%               -74.050444   24491.000000    1974.000000       1.000000   \n",
       "50%               -74.043117   24609.000000    1981.000000       1.000000   \n",
       "75%               -74.036486   24719.000000    1986.000000       1.000000   \n",
       "max               -73.957390   27274.000000    2000.000000       2.000000   \n",
       "\n",
       "                  id  \n",
       "count  247584.000000  \n",
       "mean   123791.500000  \n",
       "std     71471.488861  \n",
       "min         0.000000  \n",
       "25%     61895.750000  \n",
       "50%    123791.500000  \n",
       "75%    185687.250000  \n",
       "max    247583.000000  "
      ]
     },
     "execution_count": 14,
     "metadata": {},
     "output_type": "execute_result"
    }
   ],
   "source": [
    "df_bike.describe()"
   ]
  },
  {
   "cell_type": "code",
   "execution_count": 16,
   "id": "c11e1944-6099-46b3-959a-5f911cac108c",
   "metadata": {},
   "outputs": [
    {
     "data": {
      "text/plain": [
       "'2017-01-18 14:26:46'"
      ]
     },
     "execution_count": 16,
     "metadata": {},
     "output_type": "execute_result"
    }
   ],
   "source": [
    "df_bike['Stop Time'].max()"
   ]
  },
  {
   "cell_type": "markdown",
   "id": "aeabc5da-9ed1-4b45-bcef-a4517a63d42b",
   "metadata": {},
   "source": [
    "Counting the amount of gender records that are '0' -> unknown data"
   ]
  },
  {
   "cell_type": "code",
   "execution_count": 19,
   "id": "e19244c1-d233-40a8-a107-80746124968b",
   "metadata": {},
   "outputs": [
    {
     "data": {
      "text/plain": [
       "19901"
      ]
     },
     "execution_count": 19,
     "metadata": {},
     "output_type": "execute_result"
    }
   ],
   "source": [
    "df_bike[df_bike['Gender'] == 0]['Gender'].count()"
   ]
  },
  {
   "cell_type": "markdown",
   "id": "4c178ee7-c64b-433b-8afb-ed4b5dbba9ce",
   "metadata": {},
   "source": [
    "We can tell the following facts from the data and based on the documentation provided:\n",
    "\n",
    "- Trip Duration (seconds)\n",
    "- Start Time and Date\n",
    "- Stop Time and Date\n",
    "- Start Station Name\n",
    "- End Station Name\n",
    "- Station ID\n",
    "- Station Lat/Long\n",
    "- Bike ID\n",
    "- User Type (Customer = 24-hour pass or 3-day pass user; Subscriber = Annual Member)\n",
    "- Gender (Zero=unknown; 1=male; 2=female)\n",
    "- Year of Birth\n",
    "\n",
    "Findings:\n",
    "- MIN Year of date is 1900 which could tell the data is wrong or someone is 117 y/o \n",
    "- Bike ID starts at 5 digits"
   ]
  },
  {
   "cell_type": "markdown",
   "id": "8190ec66-7598-4529-87df-b3c94dd88da4",
   "metadata": {},
   "source": [
    "Checking if there are any null values"
   ]
  },
  {
   "cell_type": "code",
   "execution_count": 23,
   "id": "67609910-9bac-4994-8505-218d8fc5cf91",
   "metadata": {},
   "outputs": [
    {
     "data": {
      "text/plain": [
       "Trip Duration                  0\n",
       "Start Time                     0\n",
       "Stop Time                      0\n",
       "Start Station ID               0\n",
       "Start Station Name             0\n",
       "Start Station Latitude         0\n",
       "Start Station Longitude        0\n",
       "End Station ID                 0\n",
       "End Station Name               0\n",
       "End Station Latitude           0\n",
       "End Station Longitude          0\n",
       "Bike ID                        0\n",
       "User Type                    380\n",
       "Birth Year                 18999\n",
       "Gender                         0\n",
       "id                             0\n",
       "dtype: int64"
      ]
     },
     "execution_count": 23,
     "metadata": {},
     "output_type": "execute_result"
    }
   ],
   "source": [
    "df_bike.isna().sum()"
   ]
  },
  {
   "cell_type": "code",
   "execution_count": 25,
   "id": "5c3bf9d0-27c6-4c2b-b967-0ff4c3b5dac1",
   "metadata": {},
   "outputs": [
    {
     "data": {
      "text/plain": [
       "Trip Duration                int64\n",
       "Start Time                  object\n",
       "Stop Time                   object\n",
       "Start Station ID             int64\n",
       "Start Station Name          object\n",
       "Start Station Latitude     float64\n",
       "Start Station Longitude    float64\n",
       "End Station ID               int64\n",
       "End Station Name            object\n",
       "End Station Latitude       float64\n",
       "End Station Longitude      float64\n",
       "Bike ID                      int64\n",
       "User Type                   object\n",
       "Birth Year                 float64\n",
       "Gender                       int64\n",
       "id                           int64\n",
       "dtype: object"
      ]
     },
     "execution_count": 25,
     "metadata": {},
     "output_type": "execute_result"
    }
   ],
   "source": [
    "df_bike.dtypes"
   ]
  },
  {
   "cell_type": "markdown",
   "id": "e8d88a8d-5f96-41d6-89a8-636b5b329af8",
   "metadata": {},
   "source": [
    "Dates are not in the correct object type, we will change that and check again"
   ]
  },
  {
   "cell_type": "code",
   "execution_count": 28,
   "id": "46feb148-70f5-473b-b6d6-43e5160d9749",
   "metadata": {},
   "outputs": [
    {
     "data": {
      "text/plain": [
       "Trip Duration                       int64\n",
       "Start Time                 datetime64[ns]\n",
       "Stop Time                  datetime64[ns]\n",
       "Start Station ID                    int64\n",
       "Start Station Name                 object\n",
       "Start Station Latitude            float64\n",
       "Start Station Longitude           float64\n",
       "End Station ID                      int64\n",
       "End Station Name                   object\n",
       "End Station Latitude              float64\n",
       "End Station Longitude             float64\n",
       "Bike ID                             int64\n",
       "User Type                          object\n",
       "Birth Year                        float64\n",
       "Gender                              int64\n",
       "id                                  int64\n",
       "dtype: object"
      ]
     },
     "execution_count": 28,
     "metadata": {},
     "output_type": "execute_result"
    }
   ],
   "source": [
    "df_bike['Start Time'] = pd.to_datetime(df_bike['Start Time'])\n",
    "df_bike['Stop Time'] = pd.to_datetime(df_bike['Stop Time'])\n",
    "df_bike.dtypes"
   ]
  },
  {
   "cell_type": "markdown",
   "id": "dfbd64f1-c95f-498e-8f16-74ac2fde55c1",
   "metadata": {},
   "source": [
    "## Cleaning and Transforming The Data"
   ]
  },
  {
   "cell_type": "markdown",
   "id": "5b4b6a90-5fb5-4cfd-a945-65b17898fe04",
   "metadata": {},
   "source": [
    "We will depart from the following facts:\n",
    "- Birth Year minimum is suspiciously low\n",
    "- User Type data is missing (380 records)\n",
    "- Birth Year is missing (18999 records)\n",
    "- There are 19901 users whose gender is unknown\n",
    "- Trip duration Maximum is suspiciously high"
   ]
  },
  {
   "cell_type": "markdown",
   "id": "c9fda7b2-cfe2-45f2-89a7-227fb765bbdd",
   "metadata": {},
   "source": [
    "### Birth_year"
   ]
  },
  {
   "cell_type": "code",
   "execution_count": 33,
   "id": "e41056bb-5ad7-4c77-b0ad-b7e9a3fb94d0",
   "metadata": {},
   "outputs": [],
   "source": [
    "# updating column names to have an specific format\n",
    "df_bike.columns = [x.replace(' ','_').lower() for x in df_bike.columns]"
   ]
  },
  {
   "cell_type": "code",
   "execution_count": 35,
   "id": "b9216238-748a-455c-853c-bc8c698a3559",
   "metadata": {},
   "outputs": [
    {
     "data": {
      "text/plain": [
       "215055    122.0\n",
       "136211     88.0\n",
       "164274     85.0\n",
       "187190     85.0\n",
       "180373     85.0\n",
       "Name: age, dtype: float64"
      ]
     },
     "execution_count": 35,
     "metadata": {},
     "output_type": "execute_result"
    }
   ],
   "source": [
    "df_bike['age'] = 2022 - df_bike['birth_year']\n",
    "df_bike.age.sort_values(ascending = False).head()"
   ]
  },
  {
   "cell_type": "markdown",
   "id": "873df60b-4a90-4431-a7b9-e63557339498",
   "metadata": {},
   "source": [
    "We can drop this outlayer as this is not relevant on our session, instead, it might affect as we are not expecting riders of that age"
   ]
  },
  {
   "cell_type": "code",
   "execution_count": 38,
   "id": "b0d81ec0-cbbc-4ae5-87f4-30bbf8300187",
   "metadata": {},
   "outputs": [],
   "source": [
    "df_bike.drop([215055], inplace=True)"
   ]
  },
  {
   "cell_type": "code",
   "execution_count": 40,
   "id": "945c6317-48c1-4f0b-910a-3d25fe0e6080",
   "metadata": {},
   "outputs": [
    {
     "data": {
      "text/plain": [
       "136211    88.0\n",
       "187190    85.0\n",
       "164274    85.0\n",
       "213567    85.0\n",
       "180373    85.0\n",
       "Name: age, dtype: float64"
      ]
     },
     "execution_count": 40,
     "metadata": {},
     "output_type": "execute_result"
    }
   ],
   "source": [
    "df_bike.age.sort_values(ascending = False).head()"
   ]
  },
  {
   "cell_type": "code",
   "execution_count": 42,
   "id": "d3f38202-1b91-40d1-89e4-44e7bc58d1c8",
   "metadata": {},
   "outputs": [
    {
     "data": {
      "text/html": [
       "<div>\n",
       "<style scoped>\n",
       "    .dataframe tbody tr th:only-of-type {\n",
       "        vertical-align: middle;\n",
       "    }\n",
       "\n",
       "    .dataframe tbody tr th {\n",
       "        vertical-align: top;\n",
       "    }\n",
       "\n",
       "    .dataframe thead th {\n",
       "        text-align: right;\n",
       "    }\n",
       "</style>\n",
       "<table border=\"1\" class=\"dataframe\">\n",
       "  <thead>\n",
       "    <tr style=\"text-align: right;\">\n",
       "      <th></th>\n",
       "      <th>trip_duration</th>\n",
       "      <th>start_time</th>\n",
       "      <th>stop_time</th>\n",
       "      <th>start_station_id</th>\n",
       "      <th>start_station_name</th>\n",
       "      <th>start_station_latitude</th>\n",
       "      <th>start_station_longitude</th>\n",
       "      <th>end_station_id</th>\n",
       "      <th>end_station_name</th>\n",
       "      <th>end_station_latitude</th>\n",
       "      <th>end_station_longitude</th>\n",
       "      <th>bike_id</th>\n",
       "      <th>user_type</th>\n",
       "      <th>birth_year</th>\n",
       "      <th>gender</th>\n",
       "      <th>id</th>\n",
       "      <th>age</th>\n",
       "    </tr>\n",
       "  </thead>\n",
       "  <tbody>\n",
       "    <tr>\n",
       "      <th>4</th>\n",
       "      <td>903</td>\n",
       "      <td>2016-01-01 01:03:20</td>\n",
       "      <td>2016-01-01 01:18:24</td>\n",
       "      <td>3195</td>\n",
       "      <td>Sip Ave</td>\n",
       "      <td>40.730743</td>\n",
       "      <td>-74.063784</td>\n",
       "      <td>3210</td>\n",
       "      <td>Pershing Field</td>\n",
       "      <td>40.742677</td>\n",
       "      <td>-74.051789</td>\n",
       "      <td>24573</td>\n",
       "      <td>Customer</td>\n",
       "      <td>NaN</td>\n",
       "      <td>0</td>\n",
       "      <td>4</td>\n",
       "      <td>NaN</td>\n",
       "    </tr>\n",
       "    <tr>\n",
       "      <th>5</th>\n",
       "      <td>883</td>\n",
       "      <td>2016-01-01 01:03:28</td>\n",
       "      <td>2016-01-01 01:18:11</td>\n",
       "      <td>3195</td>\n",
       "      <td>Sip Ave</td>\n",
       "      <td>40.730743</td>\n",
       "      <td>-74.063784</td>\n",
       "      <td>3210</td>\n",
       "      <td>Pershing Field</td>\n",
       "      <td>40.742677</td>\n",
       "      <td>-74.051789</td>\n",
       "      <td>24442</td>\n",
       "      <td>Customer</td>\n",
       "      <td>NaN</td>\n",
       "      <td>0</td>\n",
       "      <td>5</td>\n",
       "      <td>NaN</td>\n",
       "    </tr>\n",
       "    <tr>\n",
       "      <th>22</th>\n",
       "      <td>988</td>\n",
       "      <td>2016-01-01 03:16:33</td>\n",
       "      <td>2016-01-01 03:33:02</td>\n",
       "      <td>3196</td>\n",
       "      <td>Riverview Park</td>\n",
       "      <td>40.744319</td>\n",
       "      <td>-74.043991</td>\n",
       "      <td>3209</td>\n",
       "      <td>Brunswick St</td>\n",
       "      <td>40.724176</td>\n",
       "      <td>-74.050656</td>\n",
       "      <td>24662</td>\n",
       "      <td>Customer</td>\n",
       "      <td>NaN</td>\n",
       "      <td>0</td>\n",
       "      <td>22</td>\n",
       "      <td>NaN</td>\n",
       "    </tr>\n",
       "    <tr>\n",
       "      <th>53</th>\n",
       "      <td>3090</td>\n",
       "      <td>2016-01-01 11:07:15</td>\n",
       "      <td>2016-01-01 11:58:46</td>\n",
       "      <td>3203</td>\n",
       "      <td>Hamilton Park</td>\n",
       "      <td>40.727596</td>\n",
       "      <td>-74.044247</td>\n",
       "      <td>3203</td>\n",
       "      <td>Hamilton Park</td>\n",
       "      <td>40.727596</td>\n",
       "      <td>-74.044247</td>\n",
       "      <td>24444</td>\n",
       "      <td>Customer</td>\n",
       "      <td>NaN</td>\n",
       "      <td>0</td>\n",
       "      <td>53</td>\n",
       "      <td>NaN</td>\n",
       "    </tr>\n",
       "    <tr>\n",
       "      <th>57</th>\n",
       "      <td>788</td>\n",
       "      <td>2016-01-01 11:50:30</td>\n",
       "      <td>2016-01-01 12:03:39</td>\n",
       "      <td>3210</td>\n",
       "      <td>Pershing Field</td>\n",
       "      <td>40.742677</td>\n",
       "      <td>-74.051789</td>\n",
       "      <td>3195</td>\n",
       "      <td>Sip Ave</td>\n",
       "      <td>40.730743</td>\n",
       "      <td>-74.063784</td>\n",
       "      <td>24573</td>\n",
       "      <td>Customer</td>\n",
       "      <td>NaN</td>\n",
       "      <td>0</td>\n",
       "      <td>57</td>\n",
       "      <td>NaN</td>\n",
       "    </tr>\n",
       "  </tbody>\n",
       "</table>\n",
       "</div>"
      ],
      "text/plain": [
       "    trip_duration          start_time           stop_time  start_station_id  \\\n",
       "4             903 2016-01-01 01:03:20 2016-01-01 01:18:24              3195   \n",
       "5             883 2016-01-01 01:03:28 2016-01-01 01:18:11              3195   \n",
       "22            988 2016-01-01 03:16:33 2016-01-01 03:33:02              3196   \n",
       "53           3090 2016-01-01 11:07:15 2016-01-01 11:58:46              3203   \n",
       "57            788 2016-01-01 11:50:30 2016-01-01 12:03:39              3210   \n",
       "\n",
       "   start_station_name  start_station_latitude  start_station_longitude  \\\n",
       "4             Sip Ave               40.730743               -74.063784   \n",
       "5             Sip Ave               40.730743               -74.063784   \n",
       "22     Riverview Park               40.744319               -74.043991   \n",
       "53      Hamilton Park               40.727596               -74.044247   \n",
       "57     Pershing Field               40.742677               -74.051789   \n",
       "\n",
       "    end_station_id end_station_name  end_station_latitude  \\\n",
       "4             3210   Pershing Field             40.742677   \n",
       "5             3210   Pershing Field             40.742677   \n",
       "22            3209     Brunswick St             40.724176   \n",
       "53            3203    Hamilton Park             40.727596   \n",
       "57            3195          Sip Ave             40.730743   \n",
       "\n",
       "    end_station_longitude  bike_id user_type  birth_year  gender  id  age  \n",
       "4              -74.051789    24573  Customer         NaN       0   4  NaN  \n",
       "5              -74.051789    24442  Customer         NaN       0   5  NaN  \n",
       "22             -74.050656    24662  Customer         NaN       0  22  NaN  \n",
       "53             -74.044247    24444  Customer         NaN       0  53  NaN  \n",
       "57             -74.063784    24573  Customer         NaN       0  57  NaN  "
      ]
     },
     "execution_count": 42,
     "metadata": {},
     "output_type": "execute_result"
    }
   ],
   "source": [
    "missing_birth_year = df_bike[df_bike.birth_year.isnull()]\n",
    "missing_birth_year.head()"
   ]
  },
  {
   "cell_type": "code",
   "execution_count": 44,
   "id": "f47655ea-3f2a-489a-bc72-a7c4edbdd708",
   "metadata": {},
   "outputs": [
    {
     "name": "stdout",
     "output_type": "stream",
     "text": [
      "18999\n"
     ]
    }
   ],
   "source": [
    "missing_birth_year_count = df_bike.birth_year.isnull().sum()\n",
    "print(missing_birth_year_count)"
   ]
  },
  {
   "cell_type": "markdown",
   "id": "541e04cb-869c-45ff-9ce0-963b48a99807",
   "metadata": {},
   "source": [
    "Observations so far:\n",
    "- Looks like all null birth_year don't have gender defined\n",
    "- First rows are user_type = customer, lets see how this column is composed"
   ]
  },
  {
   "cell_type": "code",
   "execution_count": 59,
   "id": "f5a922fe-a5b2-4481-8610-3722a6ef2069",
   "metadata": {},
   "outputs": [
    {
     "data": {
      "text/plain": [
       "gender\n",
       "0    18999\n",
       "Name: count, dtype: int64"
      ]
     },
     "execution_count": 59,
     "metadata": {},
     "output_type": "execute_result"
    }
   ],
   "source": [
    "##Checking if there are other genders for nulls\n",
    "missing_birth_year['gender'].value_counts()"
   ]
  },
  {
   "cell_type": "code",
   "execution_count": 61,
   "id": "777d0d3f-f65e-4b8e-b12f-b3853f41053d",
   "metadata": {},
   "outputs": [
    {
     "data": {
      "text/plain": [
       "user_type\n",
       "Customer      15470\n",
       "Subscriber     3529\n",
       "Name: count, dtype: int64"
      ]
     },
     "execution_count": 61,
     "metadata": {},
     "output_type": "execute_result"
    }
   ],
   "source": [
    "##Breaking down user_type for null birth_year\n",
    "missing_birth_year['user_type'].value_counts()"
   ]
  },
  {
   "cell_type": "markdown",
   "id": "217eac06-b31a-4152-972c-7c0bbf6d530c",
   "metadata": {},
   "source": [
    "Observations:\n",
    "- All missing birth_year users are user_type = 0 or unknown\n",
    "- Looks like the majority of the data missing for birht_year come from customers, lets see the percentage"
   ]
  },
  {
   "cell_type": "code",
   "execution_count": 65,
   "id": "0af58e2a-330c-401e-8bc3-2bee386fab1d",
   "metadata": {},
   "outputs": [
    {
     "data": {
      "text/plain": [
       "user_type\n",
       "Customer      0.996714\n",
       "Subscriber    0.015232\n",
       "Name: count, dtype: float64"
      ]
     },
     "execution_count": 65,
     "metadata": {},
     "output_type": "execute_result"
    }
   ],
   "source": [
    "missing_birth_year['user_type'].value_counts() / df_bike['user_type'].value_counts()"
   ]
  },
  {
   "cell_type": "markdown",
   "id": "e2e119df-ce34-424b-be5e-1f95767f9ccf",
   "metadata": {},
   "source": [
    "- 99.6% of the customers are missing birth_date\n",
    "- only 1.5% of the Subscribers are missing birth_date\n",
    "\n",
    "The fact that there is a lot of data missing won't allow us to delete the missing data, we will take into account this fact for future analysis if needeed."
   ]
  },
  {
   "cell_type": "markdown",
   "id": "92bceb94-a033-427e-b743-037da424a435",
   "metadata": {},
   "source": [
    "### User_type"
   ]
  },
  {
   "cell_type": "markdown",
   "id": "4ee5ac05-2e56-406c-b052-6a82a290c19c",
   "metadata": {},
   "source": [
    "We will start by checking how the data is spread in the odds for user_type"
   ]
  },
  {
   "cell_type": "code",
   "execution_count": 81,
   "id": "bf40407b-0d75-48c6-8680-78c71658b0ce",
   "metadata": {},
   "outputs": [
    {
     "data": {
      "text/plain": [
       "user_type\n",
       "Subscriber    231682\n",
       "Customer       15521\n",
       "Name: count, dtype: int64"
      ]
     },
     "execution_count": 81,
     "metadata": {},
     "output_type": "execute_result"
    }
   ],
   "source": [
    "df_bike['user_type'].value_counts()"
   ]
  },
  {
   "cell_type": "markdown",
   "id": "74feb3a1-4781-4350-abb7-74c0a182e953",
   "metadata": {},
   "source": [
    "Lets check if there is missing data on this column"
   ]
  },
  {
   "cell_type": "code",
   "execution_count": 105,
   "id": "b3c17a14-52bb-4ae6-b9e9-f1782d29902a",
   "metadata": {},
   "outputs": [
    {
     "data": {
      "text/plain": [
       "380"
      ]
     },
     "execution_count": 105,
     "metadata": {},
     "output_type": "execute_result"
    }
   ],
   "source": [
    "missig_user_type = df_bike['user_type'].isnull()\n",
    "df_bike['user_type'].isnull().sum()"
   ]
  },
  {
   "cell_type": "code",
   "execution_count": 95,
   "id": "7589c12e-c309-48ed-a9ae-a4014f94f1ef",
   "metadata": {},
   "outputs": [
    {
     "data": {
      "text/plain": [
       "0.0015348388217284708"
      ]
     },
     "execution_count": 95,
     "metadata": {},
     "output_type": "execute_result"
    }
   ],
   "source": [
    "df_bike['user_type'].isnull().sum() / len(df_bike['user_type'])"
   ]
  },
  {
   "cell_type": "markdown",
   "id": "db38f20e-42ec-4a47-9f52-194716cddbed",
   "metadata": {},
   "source": [
    "Looks like the missing data for the column is just 0.1% of the missing data, we will check if this 380 records are also missing birth_year and gender, if so, we can drop them"
   ]
  },
  {
   "cell_type": "code",
   "execution_count": 98,
   "id": "ef24d153-0ccf-4378-98be-31a8191c6c50",
   "metadata": {},
   "outputs": [
    {
     "data": {
      "text/plain": [
       "0"
      ]
     },
     "execution_count": 98,
     "metadata": {},
     "output_type": "execute_result"
    }
   ],
   "source": [
    "((missing_user_type['gender'] == 0) | (missing_user_type['birth_year'].isna())).sum()"
   ]
  },
  {
   "cell_type": "markdown",
   "id": "74417224-4b58-4818-b119-d981b07ffe7f",
   "metadata": {},
   "source": [
    " Looks like they are populated at gender or birht of year, lets take a look deeper to this missing records"
   ]
  },
  {
   "cell_type": "code",
   "execution_count": 110,
   "id": "490ff51b-74be-4cce-b8e7-e04ca73b0770",
   "metadata": {
    "scrolled": true
   },
   "outputs": [
    {
     "data": {
      "text/html": [
       "<div>\n",
       "<style scoped>\n",
       "    .dataframe tbody tr th:only-of-type {\n",
       "        vertical-align: middle;\n",
       "    }\n",
       "\n",
       "    .dataframe tbody tr th {\n",
       "        vertical-align: top;\n",
       "    }\n",
       "\n",
       "    .dataframe thead th {\n",
       "        text-align: right;\n",
       "    }\n",
       "</style>\n",
       "<table border=\"1\" class=\"dataframe\">\n",
       "  <thead>\n",
       "    <tr style=\"text-align: right;\">\n",
       "      <th></th>\n",
       "      <th>trip_duration</th>\n",
       "      <th>start_time</th>\n",
       "      <th>stop_time</th>\n",
       "      <th>start_station_id</th>\n",
       "      <th>start_station_name</th>\n",
       "      <th>start_station_latitude</th>\n",
       "      <th>start_station_longitude</th>\n",
       "      <th>end_station_id</th>\n",
       "      <th>end_station_name</th>\n",
       "      <th>end_station_latitude</th>\n",
       "      <th>end_station_longitude</th>\n",
       "      <th>bike_id</th>\n",
       "      <th>user_type</th>\n",
       "      <th>birth_year</th>\n",
       "      <th>gender</th>\n",
       "      <th>id</th>\n",
       "      <th>age</th>\n",
       "    </tr>\n",
       "  </thead>\n",
       "  <tbody>\n",
       "    <tr>\n",
       "      <th>25267</th>\n",
       "      <td>156</td>\n",
       "      <td>2016-03-23 09:08:34</td>\n",
       "      <td>2016-03-23 09:11:11</td>\n",
       "      <td>3214</td>\n",
       "      <td>Essex Light Rail</td>\n",
       "      <td>40.712774</td>\n",
       "      <td>-74.036486</td>\n",
       "      <td>3183</td>\n",
       "      <td>Exchange Place</td>\n",
       "      <td>40.716247</td>\n",
       "      <td>-74.033459</td>\n",
       "      <td>24444</td>\n",
       "      <td>NaN</td>\n",
       "      <td>1987.0</td>\n",
       "      <td>1</td>\n",
       "      <td>25267</td>\n",
       "      <td>35.0</td>\n",
       "    </tr>\n",
       "    <tr>\n",
       "      <th>25668</th>\n",
       "      <td>164</td>\n",
       "      <td>2016-03-23 22:17:45</td>\n",
       "      <td>2016-03-23 22:20:29</td>\n",
       "      <td>3183</td>\n",
       "      <td>Exchange Place</td>\n",
       "      <td>40.716247</td>\n",
       "      <td>-74.033459</td>\n",
       "      <td>3214</td>\n",
       "      <td>Essex Light Rail</td>\n",
       "      <td>40.712774</td>\n",
       "      <td>-74.036486</td>\n",
       "      <td>24675</td>\n",
       "      <td>NaN</td>\n",
       "      <td>1987.0</td>\n",
       "      <td>1</td>\n",
       "      <td>25668</td>\n",
       "      <td>35.0</td>\n",
       "    </tr>\n",
       "    <tr>\n",
       "      <th>25894</th>\n",
       "      <td>171</td>\n",
       "      <td>2016-03-24 11:46:39</td>\n",
       "      <td>2016-03-24 11:49:31</td>\n",
       "      <td>3214</td>\n",
       "      <td>Essex Light Rail</td>\n",
       "      <td>40.712774</td>\n",
       "      <td>-74.036486</td>\n",
       "      <td>3183</td>\n",
       "      <td>Exchange Place</td>\n",
       "      <td>40.716247</td>\n",
       "      <td>-74.033459</td>\n",
       "      <td>24697</td>\n",
       "      <td>NaN</td>\n",
       "      <td>1987.0</td>\n",
       "      <td>1</td>\n",
       "      <td>25894</td>\n",
       "      <td>35.0</td>\n",
       "    </tr>\n",
       "    <tr>\n",
       "      <th>26189</th>\n",
       "      <td>204</td>\n",
       "      <td>2016-03-24 20:45:45</td>\n",
       "      <td>2016-03-24 20:49:10</td>\n",
       "      <td>3183</td>\n",
       "      <td>Exchange Place</td>\n",
       "      <td>40.716247</td>\n",
       "      <td>-74.033459</td>\n",
       "      <td>3214</td>\n",
       "      <td>Essex Light Rail</td>\n",
       "      <td>40.712774</td>\n",
       "      <td>-74.036486</td>\n",
       "      <td>24387</td>\n",
       "      <td>NaN</td>\n",
       "      <td>1987.0</td>\n",
       "      <td>1</td>\n",
       "      <td>26189</td>\n",
       "      <td>35.0</td>\n",
       "    </tr>\n",
       "    <tr>\n",
       "      <th>26630</th>\n",
       "      <td>380</td>\n",
       "      <td>2016-03-25 19:15:56</td>\n",
       "      <td>2016-03-25 19:22:17</td>\n",
       "      <td>3183</td>\n",
       "      <td>Exchange Place</td>\n",
       "      <td>40.716247</td>\n",
       "      <td>-74.033459</td>\n",
       "      <td>3184</td>\n",
       "      <td>Paulus Hook</td>\n",
       "      <td>40.714145</td>\n",
       "      <td>-74.033552</td>\n",
       "      <td>24412</td>\n",
       "      <td>NaN</td>\n",
       "      <td>1987.0</td>\n",
       "      <td>1</td>\n",
       "      <td>26630</td>\n",
       "      <td>35.0</td>\n",
       "    </tr>\n",
       "  </tbody>\n",
       "</table>\n",
       "</div>"
      ],
      "text/plain": [
       "       trip_duration          start_time           stop_time  \\\n",
       "25267            156 2016-03-23 09:08:34 2016-03-23 09:11:11   \n",
       "25668            164 2016-03-23 22:17:45 2016-03-23 22:20:29   \n",
       "25894            171 2016-03-24 11:46:39 2016-03-24 11:49:31   \n",
       "26189            204 2016-03-24 20:45:45 2016-03-24 20:49:10   \n",
       "26630            380 2016-03-25 19:15:56 2016-03-25 19:22:17   \n",
       "\n",
       "       start_station_id start_station_name  start_station_latitude  \\\n",
       "25267              3214   Essex Light Rail               40.712774   \n",
       "25668              3183     Exchange Place               40.716247   \n",
       "25894              3214   Essex Light Rail               40.712774   \n",
       "26189              3183     Exchange Place               40.716247   \n",
       "26630              3183     Exchange Place               40.716247   \n",
       "\n",
       "       start_station_longitude  end_station_id  end_station_name  \\\n",
       "25267               -74.036486            3183    Exchange Place   \n",
       "25668               -74.033459            3214  Essex Light Rail   \n",
       "25894               -74.036486            3183    Exchange Place   \n",
       "26189               -74.033459            3214  Essex Light Rail   \n",
       "26630               -74.033459            3184       Paulus Hook   \n",
       "\n",
       "       end_station_latitude  end_station_longitude  bike_id user_type  \\\n",
       "25267             40.716247             -74.033459    24444       NaN   \n",
       "25668             40.712774             -74.036486    24675       NaN   \n",
       "25894             40.716247             -74.033459    24697       NaN   \n",
       "26189             40.712774             -74.036486    24387       NaN   \n",
       "26630             40.714145             -74.033552    24412       NaN   \n",
       "\n",
       "       birth_year  gender     id   age  \n",
       "25267      1987.0       1  25267  35.0  \n",
       "25668      1987.0       1  25668  35.0  \n",
       "25894      1987.0       1  25894  35.0  \n",
       "26189      1987.0       1  26189  35.0  \n",
       "26630      1987.0       1  26630  35.0  "
      ]
     },
     "execution_count": 110,
     "metadata": {},
     "output_type": "execute_result"
    }
   ],
   "source": [
    "missing_user_type.head()"
   ]
  },
  {
   "cell_type": "markdown",
   "id": "68293118-4058-4ce8-8c2d-423b87f9bb21",
   "metadata": {},
   "source": [
    "Looks like all of them are customers, lets confirm"
   ]
  },
  {
   "cell_type": "code",
   "execution_count": 116,
   "id": "377115e6-8ae6-419c-a37d-4228a98a6b67",
   "metadata": {},
   "outputs": [
    {
     "data": {
      "image/png": "[encoded data removed]",
      "text/plain": [
       "<Figure size 640x480 with 1 Axes>"
      ]
     },
     "metadata": {},
     "output_type": "display_data"
    }
   ],
   "source": [
    "my = (missing_user_type.resample('ME',on='start_time').count()['id']/len(missing_user_type)).rename('missing')\n",
    "dy = (df_bike.resample('ME',on='start_time').count()['id']/len(df_bike)).rename('full')\n",
    "combo = pd.concat([my,dy],axis=1)\n",
    "\n",
    "\n",
    "ax = combo.plot.bar();"
   ]
  },
  {
   "cell_type": "markdown",
   "id": "2679e778-5f89-4558-98b8-bdce01416a2a",
   "metadata": {},
   "source": [
    "While the missing data is a small percentage of the total, an eye test of the distributions indicates that it might not be missing at random. From a data management perspective, let's keep the data but replace the NaN with an `unknown` category. This way, the analytics team can investigate further and we can keep track of this issue if we update the database with more years of data."
   ]
  },
  {
   "cell_type": "code",
   "execution_count": 121,
   "id": "05ff1b9c-1b6d-4f05-8826-07d03805d8ed",
   "metadata": {},
   "outputs": [],
   "source": [
    "df_bike.fillna({'user_type':'Unknown'},inplace=True)"
   ]
  },
  {
   "cell_type": "code",
   "execution_count": 123,
   "id": "793dad96-c9ab-443a-b6bb-48f2dd6b7972",
   "metadata": {},
   "outputs": [
    {
     "name": "stdout",
     "output_type": "stream",
     "text": [
      "<class 'pandas.core.frame.DataFrame'>\n",
      "Index: 247583 entries, 0 to 247583\n",
      "Data columns (total 17 columns):\n",
      " #   Column                   Non-Null Count   Dtype         \n",
      "---  ------                   --------------   -----         \n",
      " 0   trip_duration            247583 non-null  int64         \n",
      " 1   start_time               247583 non-null  datetime64[ns]\n",
      " 2   stop_time                247583 non-null  datetime64[ns]\n",
      " 3   start_station_id         247583 non-null  int64         \n",
      " 4   start_station_name       247583 non-null  object        \n",
      " 5   start_station_latitude   247583 non-null  float64       \n",
      " 6   start_station_longitude  247583 non-null  float64       \n",
      " 7   end_station_id           247583 non-null  int64         \n",
      " 8   end_station_name         247583 non-null  object        \n",
      " 9   end_station_latitude     247583 non-null  float64       \n",
      " 10  end_station_longitude    247583 non-null  float64       \n",
      " 11  bike_id                  247583 non-null  int64         \n",
      " 12  user_type                247583 non-null  object        \n",
      " 13  birth_year               228584 non-null  float64       \n",
      " 14  gender                   247583 non-null  int64         \n",
      " 15  id                       247583 non-null  int64         \n",
      " 16  age                      228584 non-null  float64       \n",
      "dtypes: datetime64[ns](2), float64(6), int64(6), object(3)\n",
      "memory usage: 34.0+ MB\n"
     ]
    }
   ],
   "source": [
    "df_bike.info()"
   ]
  },
  {
   "cell_type": "markdown",
   "id": "12fafe90-6767-4f80-b99b-7b934dcf7521",
   "metadata": {},
   "source": [
    "### Gender"
   ]
  },
  {
   "cell_type": "code",
   "execution_count": 140,
   "id": "f1a49ef0-8427-4145-a3e2-96bb3b9e1d87",
   "metadata": {},
   "outputs": [
    {
     "data": {
      "text/plain": [
       "user_type   gender\n",
       "Customer    0          15470\n",
       "            1             36\n",
       "            2             15\n",
       "Subscriber  0           4431\n",
       "            1         176898\n",
       "            2          50353\n",
       "Unknown     1            262\n",
       "            2            118\n",
       "Name: id, dtype: int64"
      ]
     },
     "execution_count": 140,
     "metadata": {},
     "output_type": "execute_result"
    }
   ],
   "source": [
    "df_bike.groupby(['user_type','gender']).count()['id']"
   ]
  },
  {
   "cell_type": "markdown",
   "id": "90bc7f6a-5a1a-4aa3-870b-cc4d80ce2383",
   "metadata": {},
   "source": [
    "We won't delete these rows (to avoid removing almost all customers) but as with `birth_year` we'll need to be aware that demographic information is only really useful for `user_type = subscriber`."
   ]
  },
  {
   "cell_type": "markdown",
   "id": "630d8458-b069-421b-854c-58aedc8c3e1b",
   "metadata": {},
   "source": [
    "### Trip_duration\n",
    "\n",
    "This column had a suspiciously large maximum. Let's investigate:"
   ]
  },
  {
   "cell_type": "code",
   "execution_count": 147,
   "id": "dde8b973-4a94-49f4-88e1-e7d9f84ea08f",
   "metadata": {},
   "outputs": [
    {
     "data": {
      "text/html": [
       "<div>\n",
       "<style scoped>\n",
       "    .dataframe tbody tr th:only-of-type {\n",
       "        vertical-align: middle;\n",
       "    }\n",
       "\n",
       "    .dataframe tbody tr th {\n",
       "        vertical-align: top;\n",
       "    }\n",
       "\n",
       "    .dataframe thead th {\n",
       "        text-align: right;\n",
       "    }\n",
       "</style>\n",
       "<table border=\"1\" class=\"dataframe\">\n",
       "  <thead>\n",
       "    <tr style=\"text-align: right;\">\n",
       "      <th></th>\n",
       "      <th>trip_duration</th>\n",
       "      <th>trip_minutes</th>\n",
       "      <th>trip_hours</th>\n",
       "    </tr>\n",
       "  </thead>\n",
       "  <tbody>\n",
       "    <tr>\n",
       "      <th>count</th>\n",
       "      <td>2.475830e+05</td>\n",
       "      <td>247583.000000</td>\n",
       "      <td>247583.000000</td>\n",
       "    </tr>\n",
       "    <tr>\n",
       "      <th>mean</th>\n",
       "      <td>8.856300e+02</td>\n",
       "      <td>14.760494</td>\n",
       "      <td>0.246006</td>\n",
       "    </tr>\n",
       "    <tr>\n",
       "      <th>std</th>\n",
       "      <td>3.593805e+04</td>\n",
       "      <td>598.967493</td>\n",
       "      <td>9.982797</td>\n",
       "    </tr>\n",
       "    <tr>\n",
       "      <th>min</th>\n",
       "      <td>6.100000e+01</td>\n",
       "      <td>1.020000</td>\n",
       "      <td>0.020000</td>\n",
       "    </tr>\n",
       "    <tr>\n",
       "      <th>25%</th>\n",
       "      <td>2.480000e+02</td>\n",
       "      <td>4.130000</td>\n",
       "      <td>0.070000</td>\n",
       "    </tr>\n",
       "    <tr>\n",
       "      <th>50%</th>\n",
       "      <td>3.900000e+02</td>\n",
       "      <td>6.500000</td>\n",
       "      <td>0.110000</td>\n",
       "    </tr>\n",
       "    <tr>\n",
       "      <th>75%</th>\n",
       "      <td>6.660000e+02</td>\n",
       "      <td>11.100000</td>\n",
       "      <td>0.180000</td>\n",
       "    </tr>\n",
       "    <tr>\n",
       "      <th>max</th>\n",
       "      <td>1.632981e+07</td>\n",
       "      <td>272163.470000</td>\n",
       "      <td>4536.060000</td>\n",
       "    </tr>\n",
       "  </tbody>\n",
       "</table>\n",
       "</div>"
      ],
      "text/plain": [
       "       trip_duration   trip_minutes     trip_hours\n",
       "count   2.475830e+05  247583.000000  247583.000000\n",
       "mean    8.856300e+02      14.760494       0.246006\n",
       "std     3.593805e+04     598.967493       9.982797\n",
       "min     6.100000e+01       1.020000       0.020000\n",
       "25%     2.480000e+02       4.130000       0.070000\n",
       "50%     3.900000e+02       6.500000       0.110000\n",
       "75%     6.660000e+02      11.100000       0.180000\n",
       "max     1.632981e+07  272163.470000    4536.060000"
      ]
     },
     "execution_count": 147,
     "metadata": {},
     "output_type": "execute_result"
    }
   ],
   "source": [
    "# creating an easier to interpret trip time column in minutes and hours\n",
    "df_bike['trip_minutes'] = round(df_bike['trip_duration'] / 60, 2)\n",
    "df_bike['trip_hours'] = round(df_bike['trip_duration']/(60**2),2)\n",
    "df_bike[['trip_duration','trip_minutes','trip_hours']].describe()"
   ]
  },
  {
   "cell_type": "markdown",
   "id": "95f44b3e-f555-4c7e-8862-d69863a2f86e",
   "metadata": {},
   "source": [
    "Observations:\n",
    "\n",
    "Minimum trip length: 61 seconds\n",
    "Maximum trip length: 4,536 hours (189 days)\n",
    "According to the data dictionary, trips shorter than 60 seconds were assumed to be false starts/stops and were already removed.\n",
    "As for the maximum trip length, Citi Bike's policies state that the maximum duration for a trip is 24 hours (or 86,400 seconds).\n",
    "\n",
    "We won't remove trips exceeding this duration, as they could be the result of bike docking issues or users breaking the rules, which might be of interest for further investigation. However, we will introduce a flag so the analytics team can easily filter these extended trips if needed."
   ]
  },
  {
   "cell_type": "code",
   "execution_count": 161,
   "id": "8cb9673b-4931-4cab-85ff-78e349bb7188",
   "metadata": {},
   "outputs": [
    {
     "data": {
      "text/plain": [
       "valid_duration\n",
       "1    247490\n",
       "0        93\n",
       "Name: count, dtype: int64"
      ]
     },
     "execution_count": 161,
     "metadata": {},
     "output_type": "execute_result"
    }
   ],
   "source": [
    "# create a column to flag rides that do not comply with system protocols\n",
    "df_bike['valid_duration'] = df_bike['trip_duration'].apply(lambda x: 0 if x > 86400 else 1)\n",
    "df_bike['valid_duration'].value_counts()"
   ]
  },
  {
   "cell_type": "code",
   "execution_count": 169,
   "id": "b6a442b4-2967-4db0-a38a-8eb88f090200",
   "metadata": {},
   "outputs": [],
   "source": [
    "## dropping not valid trip duration data\n",
    "df_bike = df_bike[df_bike['valid_duration'] != 0]"
   ]
  },
  {
   "cell_type": "code",
   "execution_count": 165,
   "id": "4d1dbb40-a490-4b5d-9928-1b6ea0f9297e",
   "metadata": {},
   "outputs": [
    {
     "data": {
      "text/html": [
       "<div>\n",
       "<style scoped>\n",
       "    .dataframe tbody tr th:only-of-type {\n",
       "        vertical-align: middle;\n",
       "    }\n",
       "\n",
       "    .dataframe tbody tr th {\n",
       "        vertical-align: top;\n",
       "    }\n",
       "\n",
       "    .dataframe thead th {\n",
       "        text-align: right;\n",
       "    }\n",
       "</style>\n",
       "<table border=\"1\" class=\"dataframe\">\n",
       "  <thead>\n",
       "    <tr style=\"text-align: right;\">\n",
       "      <th></th>\n",
       "      <th>trip_duration</th>\n",
       "      <th>start_time</th>\n",
       "      <th>stop_time</th>\n",
       "      <th>start_station_id</th>\n",
       "      <th>start_station_name</th>\n",
       "      <th>start_station_latitude</th>\n",
       "      <th>start_station_longitude</th>\n",
       "      <th>end_station_id</th>\n",
       "      <th>end_station_name</th>\n",
       "      <th>end_station_latitude</th>\n",
       "      <th>end_station_longitude</th>\n",
       "      <th>bike_id</th>\n",
       "      <th>user_type</th>\n",
       "      <th>birth_year</th>\n",
       "      <th>gender</th>\n",
       "      <th>id</th>\n",
       "      <th>age</th>\n",
       "      <th>trip_minutes</th>\n",
       "      <th>trip_hours</th>\n",
       "      <th>valid_duration</th>\n",
       "    </tr>\n",
       "  </thead>\n",
       "  <tbody>\n",
       "    <tr>\n",
       "      <th>247485</th>\n",
       "      <td>557</td>\n",
       "      <td>2016-12-31 23:10:16</td>\n",
       "      <td>2016-12-31 23:19:33</td>\n",
       "      <td>3214</td>\n",
       "      <td>Essex Light Rail</td>\n",
       "      <td>40.712774</td>\n",
       "      <td>-74.036486</td>\n",
       "      <td>3203</td>\n",
       "      <td>Hamilton Park</td>\n",
       "      <td>40.727596</td>\n",
       "      <td>-74.044247</td>\n",
       "      <td>24465</td>\n",
       "      <td>Subscriber</td>\n",
       "      <td>1981.0</td>\n",
       "      <td>2</td>\n",
       "      <td>247485</td>\n",
       "      <td>41.0</td>\n",
       "      <td>9.28</td>\n",
       "      <td>0.15</td>\n",
       "      <td>1</td>\n",
       "    </tr>\n",
       "    <tr>\n",
       "      <th>247486</th>\n",
       "      <td>2749</td>\n",
       "      <td>2016-12-31 23:29:39</td>\n",
       "      <td>2017-01-01 00:15:29</td>\n",
       "      <td>3183</td>\n",
       "      <td>Exchange Place</td>\n",
       "      <td>40.716247</td>\n",
       "      <td>-74.033459</td>\n",
       "      <td>3183</td>\n",
       "      <td>Exchange Place</td>\n",
       "      <td>40.716247</td>\n",
       "      <td>-74.033459</td>\n",
       "      <td>24389</td>\n",
       "      <td>Customer</td>\n",
       "      <td>NaN</td>\n",
       "      <td>0</td>\n",
       "      <td>247486</td>\n",
       "      <td>NaN</td>\n",
       "      <td>45.82</td>\n",
       "      <td>0.76</td>\n",
       "      <td>1</td>\n",
       "    </tr>\n",
       "    <tr>\n",
       "      <th>247487</th>\n",
       "      <td>173</td>\n",
       "      <td>2016-12-31 23:44:37</td>\n",
       "      <td>2016-12-31 23:47:31</td>\n",
       "      <td>3186</td>\n",
       "      <td>Grove St PATH</td>\n",
       "      <td>40.719586</td>\n",
       "      <td>-74.043117</td>\n",
       "      <td>3270</td>\n",
       "      <td>Jersey &amp; 6th St</td>\n",
       "      <td>40.725289</td>\n",
       "      <td>-74.045572</td>\n",
       "      <td>24641</td>\n",
       "      <td>Subscriber</td>\n",
       "      <td>1978.0</td>\n",
       "      <td>1</td>\n",
       "      <td>247487</td>\n",
       "      <td>44.0</td>\n",
       "      <td>2.88</td>\n",
       "      <td>0.05</td>\n",
       "      <td>1</td>\n",
       "    </tr>\n",
       "    <tr>\n",
       "      <th>247488</th>\n",
       "      <td>2424</td>\n",
       "      <td>2016-12-31 23:44:50</td>\n",
       "      <td>2017-01-01 00:25:14</td>\n",
       "      <td>3214</td>\n",
       "      <td>Essex Light Rail</td>\n",
       "      <td>40.712774</td>\n",
       "      <td>-74.036486</td>\n",
       "      <td>3214</td>\n",
       "      <td>Essex Light Rail</td>\n",
       "      <td>40.712774</td>\n",
       "      <td>-74.036486</td>\n",
       "      <td>26219</td>\n",
       "      <td>Subscriber</td>\n",
       "      <td>1960.0</td>\n",
       "      <td>2</td>\n",
       "      <td>247488</td>\n",
       "      <td>62.0</td>\n",
       "      <td>40.40</td>\n",
       "      <td>0.67</td>\n",
       "      <td>1</td>\n",
       "    </tr>\n",
       "    <tr>\n",
       "      <th>247489</th>\n",
       "      <td>2419</td>\n",
       "      <td>2016-12-31 23:44:50</td>\n",
       "      <td>2017-01-01 00:25:10</td>\n",
       "      <td>3214</td>\n",
       "      <td>Essex Light Rail</td>\n",
       "      <td>40.712774</td>\n",
       "      <td>-74.036486</td>\n",
       "      <td>3214</td>\n",
       "      <td>Essex Light Rail</td>\n",
       "      <td>40.712774</td>\n",
       "      <td>-74.036486</td>\n",
       "      <td>24471</td>\n",
       "      <td>Subscriber</td>\n",
       "      <td>1956.0</td>\n",
       "      <td>1</td>\n",
       "      <td>247489</td>\n",
       "      <td>66.0</td>\n",
       "      <td>40.32</td>\n",
       "      <td>0.67</td>\n",
       "      <td>1</td>\n",
       "    </tr>\n",
       "  </tbody>\n",
       "</table>\n",
       "</div>"
      ],
      "text/plain": [
       "        trip_duration          start_time           stop_time  \\\n",
       "247485            557 2016-12-31 23:10:16 2016-12-31 23:19:33   \n",
       "247486           2749 2016-12-31 23:29:39 2017-01-01 00:15:29   \n",
       "247487            173 2016-12-31 23:44:37 2016-12-31 23:47:31   \n",
       "247488           2424 2016-12-31 23:44:50 2017-01-01 00:25:14   \n",
       "247489           2419 2016-12-31 23:44:50 2017-01-01 00:25:10   \n",
       "\n",
       "        start_station_id start_station_name  start_station_latitude  \\\n",
       "247485              3214   Essex Light Rail               40.712774   \n",
       "247486              3183     Exchange Place               40.716247   \n",
       "247487              3186      Grove St PATH               40.719586   \n",
       "247488              3214   Essex Light Rail               40.712774   \n",
       "247489              3214   Essex Light Rail               40.712774   \n",
       "\n",
       "        start_station_longitude  end_station_id  end_station_name  \\\n",
       "247485               -74.036486            3203     Hamilton Park   \n",
       "247486               -74.033459            3183    Exchange Place   \n",
       "247487               -74.043117            3270   Jersey & 6th St   \n",
       "247488               -74.036486            3214  Essex Light Rail   \n",
       "247489               -74.036486            3214  Essex Light Rail   \n",
       "\n",
       "        end_station_latitude  end_station_longitude  bike_id   user_type  \\\n",
       "247485             40.727596             -74.044247    24465  Subscriber   \n",
       "247486             40.716247             -74.033459    24389    Customer   \n",
       "247487             40.725289             -74.045572    24641  Subscriber   \n",
       "247488             40.712774             -74.036486    26219  Subscriber   \n",
       "247489             40.712774             -74.036486    24471  Subscriber   \n",
       "\n",
       "        birth_year  gender      id   age  trip_minutes  trip_hours  \\\n",
       "247485      1981.0       2  247485  41.0          9.28        0.15   \n",
       "247486         NaN       0  247486   NaN         45.82        0.76   \n",
       "247487      1978.0       1  247487  44.0          2.88        0.05   \n",
       "247488      1960.0       2  247488  62.0         40.40        0.67   \n",
       "247489      1956.0       1  247489  66.0         40.32        0.67   \n",
       "\n",
       "        valid_duration  \n",
       "247485               1  \n",
       "247486               1  \n",
       "247487               1  \n",
       "247488               1  \n",
       "247489               1  "
      ]
     },
     "execution_count": 165,
     "metadata": {},
     "output_type": "execute_result"
    }
   ],
   "source": [
    "## reseting index after dropping some data\n",
    "df_bike.reset_index(drop=True,inplace=True)\n",
    "df_bike['id'] = df_bike.index\n",
    "df_bike.tail()"
   ]
  }
 ],
 "metadata": {
  "kernelspec": {
   "display_name": "Python 3 (ipykernel)",
   "language": "python",
   "name": "python3"
  },
  "language_info": {
   "codemirror_mode": {
    "name": "ipython",
    "version": 3
   },
   "file_extension": ".py",
   "mimetype": "text/x-python",
   "name": "python",
   "nbconvert_exporter": "python",
   "pygments_lexer": "ipython3",
   "version": "3.12.4"
  }
 },
 "nbformat": 4,
 "nbformat_minor": 5
}
